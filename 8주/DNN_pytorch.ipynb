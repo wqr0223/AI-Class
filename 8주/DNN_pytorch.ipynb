{
 "cells": [
  {
   "cell_type": "code",
   "execution_count": 1,
   "id": "a66e755d-3002-43d9-aab2-74e7d4c31416",
   "metadata": {},
   "outputs": [
    {
     "name": "stdout",
     "output_type": "stream",
     "text": [
      "Epoch 1/20, Loss: 0.5019\n",
      "Epoch 2/20, Loss: 0.2232\n",
      "Epoch 3/20, Loss: 0.0670\n",
      "Epoch 4/20, Loss: 0.1065\n",
      "Epoch 5/20, Loss: 0.0997\n",
      "Epoch 6/20, Loss: 0.0952\n",
      "Epoch 7/20, Loss: 0.0404\n",
      "Epoch 8/20, Loss: 0.1224\n",
      "Epoch 9/20, Loss: 0.0482\n",
      "Epoch 10/20, Loss: 0.0191\n",
      "Epoch 11/20, Loss: 0.0244\n",
      "Epoch 12/20, Loss: 0.0241\n",
      "Epoch 13/20, Loss: 0.0293\n",
      "Epoch 14/20, Loss: 0.0557\n",
      "Epoch 15/20, Loss: 0.0291\n",
      "Epoch 16/20, Loss: 0.0144\n",
      "Epoch 17/20, Loss: 0.0087\n",
      "Epoch 18/20, Loss: 0.0430\n",
      "Epoch 19/20, Loss: 0.0270\n",
      "Epoch 20/20, Loss: 0.0231\n",
      "정확도: 0.9694444537162781\n"
     ]
    },
    {
     "data": {
      "image/png": "[encoded data removed]",
      "text/plain": [
       "<Figure size 640x480 with 1 Axes>"
      ]
     },
     "metadata": {},
     "output_type": "display_data"
    },
    {
     "name": "stdout",
     "output_type": "stream",
     "text": [
      "예측 결과: 1\n"
     ]
    }
   ],
   "source": [
    "import torch\n",
    "import torch.nn as nn\n",
    "import torch.optim as optim\n",
    "from sklearn import datasets, metrics\n",
    "from sklearn.model_selection import train_test_split\n",
    "import matplotlib.pyplot as plt\n",
    "\n",
    "# 1. 데이터 불러오기 및 전처리\n",
    "digits = datasets.load_digits()\n",
    "n_samples = len(digits.images)\n",
    "data = digits.images.reshape((n_samples, -1))  # (n_samples, 64)\n",
    "labels = digits.target  # 정수형 라벨 그대로 사용\n",
    "\n",
    "# 2. 학습/테스트 데이터 분리\n",
    "X_train, X_test, y_train, y_test = train_test_split(\n",
    "    data, labels, test_size=0.2, random_state=42\n",
    ")\n",
    "\n",
    "# 텐서로 변환\n",
    "X_train = torch.tensor(X_train, dtype=torch.float32)\n",
    "X_test = torch.tensor(X_test, dtype=torch.float32)\n",
    "y_train = torch.tensor(y_train, dtype=torch.long)\n",
    "y_test = torch.tensor(y_test, dtype=torch.long)\n",
    "\n",
    "# 3. DNN 모델 정의\n",
    "class DNN(nn.Module):\n",
    "    def __init__(self):\n",
    "        super(DNN, self).__init__()\n",
    "        self.model = nn.Sequential(\n",
    "            nn.Linear(64, 64),\n",
    "            nn.ReLU(),\n",
    "            nn.Linear(64, 64),\n",
    "            nn.ReLU(),\n",
    "            nn.Linear(64, 10)\n",
    "        )\n",
    "\n",
    "    def forward(self, x):\n",
    "        return self.model(x)\n",
    "\n",
    "model = DNN()\n",
    "\n",
    "# 4. 손실함수와 옵티마이저\n",
    "criterion = nn.CrossEntropyLoss()\n",
    "optimizer = optim.Adam(model.parameters(), lr=0.001)\n",
    "\n",
    "# 5. 학습\n",
    "epochs = 20\n",
    "batch_size = 32\n",
    "\n",
    "for epoch in range(epochs):\n",
    "    permutation = torch.randperm(X_train.size(0))\n",
    "    for i in range(0, X_train.size(0), batch_size):\n",
    "        indices = permutation[i:i + batch_size]\n",
    "        batch_X, batch_y = X_train[indices], y_train[indices]\n",
    "\n",
    "        outputs = model(batch_X)\n",
    "        loss = criterion(outputs, batch_y)\n",
    "\n",
    "        optimizer.zero_grad()\n",
    "        loss.backward()\n",
    "        optimizer.step()\n",
    "    \n",
    "    print(f\"Epoch {epoch+1}/{epochs}, Loss: {loss.item():.4f}\")\n",
    "\n",
    "# 6. 평가\n",
    "with torch.no_grad():\n",
    "    outputs = model(X_test)\n",
    "    _, predicted = torch.max(outputs, 1)\n",
    "    accuracy = (predicted == y_test).float().mean()\n",
    "    print(\"정확도:\", accuracy.item())\n",
    "\n",
    "# 7. 예측 및 시각화\n",
    "plt.imshow(X_test[10].reshape(8, 8), cmap=plt.cm.gray_r, interpolation='nearest')\n",
    "plt.show()\n",
    "\n",
    "with torch.no_grad():\n",
    "    pred = model(X_test[10].unsqueeze(0))  # (1, 64) 형태로 맞춤\n",
    "    print(\"예측 결과:\", torch.argmax(pred).item())\n"
   ]
  },
  {
   "cell_type": "code",
   "execution_count": null,
   "id": "0d002d54-cbcb-48df-98de-d03db9ac5a5a",
   "metadata": {},
   "outputs": [],
   "source": []
  }
 ],
 "metadata": {
  "kernelspec": {
   "display_name": "Python 3 (ipykernel)",
   "language": "python",
   "name": "python3"
  },
  "language_info": {
   "codemirror_mode": {
    "name": "ipython",
    "version": 3
   },
   "file_extension": ".py",
   "mimetype": "text/x-python",
   "name": "python",
   "nbconvert_exporter": "python",
   "pygments_lexer": "ipython3",
   "version": "3.11.7"
  }
 },
 "nbformat": 4,
 "nbformat_minor": 5
}
