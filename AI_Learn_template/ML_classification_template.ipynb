{
 "cells": [
  {
   "cell_type": "code",
   "execution_count": null,
   "id": "7bff514d-2057-4f08-adcb-a2bfaa742944",
   "metadata": {},
   "outputs": [],
   "source": []
  }
 ],
 "metadata": {
  "kernelspec": {
   "display_name": "",
   "name": ""
  },
  "language_info": {
   "name": ""
  }
 },
 "nbformat": 4,
 "nbformat_minor": 5
}
